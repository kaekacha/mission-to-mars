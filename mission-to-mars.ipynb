{
 "metadata": {
  "language_info": {
   "codemirror_mode": {
    "name": "ipython",
    "version": 3
   },
   "file_extension": ".py",
   "mimetype": "text/x-python",
   "name": "python",
   "nbconvert_exporter": "python",
   "pygments_lexer": "ipython3",
   "version": "3.8.5"
  },
  "orig_nbformat": 2,
  "kernelspec": {
   "name": "python3",
   "display_name": "Python 3.8.5 64-bit ('base': conda)",
   "metadata": {
    "interpreter": {
     "hash": "1993242ffda7442e9e11904b1e2b92890343f7619b6c60b06cc7ef8fbca209c8"
    }
   }
  }
 },
 "nbformat": 4,
 "nbformat_minor": 2,
 "cells": [
  {
   "cell_type": "code",
   "execution_count": 27,
   "metadata": {},
   "outputs": [],
   "source": [
    "import pymongo\n",
    "from bs4 import BeautifulSoup as bs\n",
    "from splinter import Browser\n",
    "from webdriver_manager.chrome import ChromeDriverManager\n",
    "import pandas as pd\n",
    "import requests"
   ]
  },
  {
   "cell_type": "code",
   "execution_count": 28,
   "metadata": {
    "tags": []
   },
   "outputs": [
    {
     "output_type": "stream",
     "name": "stdout",
     "text": [
      "Title of the first news article is: \"NASA Ingenuity Mars Helicopter Prepares for First Flight\"\nArticle teaser: \"Now uncocooned from its protective carbon-fiber shield, the helicopter is being readied for its next steps.\"\n"
     ]
    }
   ],
   "source": [
    "#scrape the website https://mars.nasa.gov/news/ to scrape data on most recent headline and teaser associated with the headline.\n",
    "\n",
    "url = 'https://mars.nasa.gov/news/'\n",
    "response = requests.get(url)\n",
    "bs_news= bs(response.text, 'html.parser')\n",
    "\n",
    "#print(bs_news.prettify())\n",
    "\n",
    "title_news = bs_news.find(class_='content_title').text.strip()\n",
    "teaser_news = bs_news.find(class_='rollover_description').text.strip()\n",
    "\n",
    "print(f'Title of the first news article is: \"{title_news}\"')\n",
    "print(f'Article teaser: \"{teaser_news}\"')"
   ]
  },
  {
   "cell_type": "code",
   "execution_count": 29,
   "metadata": {},
   "outputs": [
    {
     "output_type": "stream",
     "name": "stderr",
     "text": [
      "[WDM] - ====== WebDriver manager ======\n",
      "[WDM] - Current google-chrome version is 89.0.4389\n",
      "[WDM] - Get LATEST driver version for 89.0.4389\n",
      "[WDM] - Driver [C:\\Users\\kqo2\\.wdm\\drivers\\chromedriver\\win32\\89.0.4389.23\\chromedriver.exe] found in cache\n",
      "\n",
      "\n"
     ]
    }
   ],
   "source": [
    "#Next, we will use splinter to scrape the featured image on the website https://data-class-jpl-space.s3.amazonaws.com/JPL_Space/index.html\n",
    "\n",
    "#setup splinter\n",
    "executable_path={'executable_path': ChromeDriverManager().install()}\n",
    "browser=Browser('chrome',**executable_path, headless=False)\n",
    "\n",
    "#below, the url is separated into two parts in order to concatonate the \"url\" with the image path later.\n",
    "url = 'https://data-class-jpl-space.s3.amazonaws.com/JPL_Space/'\n",
    "index_url='index.html'\n",
    "browser.visit(url+index_url)"
   ]
  },
  {
   "cell_type": "code",
   "execution_count": 30,
   "metadata": {},
   "outputs": [],
   "source": [
    "#after inspecting the page, we see that the featured image is in the class \"headerimage fade-in\" as a src link within this img tag.\n",
    "\n",
    "#use beautifulSoup to scrape the image link\n",
    "html=browser.html\n",
    "ftimg_soup = bs(html, 'html.parser')\n",
    "ftimg_url = soup.find('img',class_=\"headerimage fade-in\")\n",
    "ftimg_url=ftimg_url.attrs['src'] #learned about the attrs function here: https://towardsdatascience.com/soup-of-the-day-97d71e6c07ec\n",
    "\n",
    "#concatonate the image link with the earlier url link\n",
    "featured_image_url=url+ftimg_url\n",
    "browser.visit(featured_image_url)\n",
    "\n",
    "#quit the browser session for splinter.\n",
    "browser.quit()"
   ]
  },
  {
   "cell_type": "code",
   "execution_count": 31,
   "metadata": {},
   "outputs": [
    {
     "output_type": "stream",
     "name": "stdout",
     "text": [
      "https://data-class-jpl-space.s3.amazonaws.com/JPL_Space/image/featured/mars1.jpg\n"
     ]
    }
   ],
   "source": [
    "print(featured_image_url)"
   ]
  },
  {
   "cell_type": "code",
   "execution_count": null,
   "metadata": {},
   "outputs": [],
   "source": []
  }
 ]
}