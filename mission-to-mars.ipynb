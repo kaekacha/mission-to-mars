{
 "metadata": {
  "language_info": {
   "codemirror_mode": {
    "name": "ipython",
    "version": 3
   },
   "file_extension": ".py",
   "mimetype": "text/x-python",
   "name": "python",
   "nbconvert_exporter": "python",
   "pygments_lexer": "ipython3",
   "version": "3.8.5"
  },
  "orig_nbformat": 2,
  "kernelspec": {
   "name": "python3",
   "display_name": "Python 3.8.5 64-bit ('base': conda)",
   "metadata": {
    "interpreter": {
     "hash": "1993242ffda7442e9e11904b1e2b92890343f7619b6c60b06cc7ef8fbca209c8"
    }
   }
  }
 },
 "nbformat": 4,
 "nbformat_minor": 2,
 "cells": [
  {
   "cell_type": "code",
   "execution_count": 7,
   "metadata": {},
   "outputs": [],
   "source": [
    "import pymongo\n",
    "from bs4 import BeautifulSoup as bs\n",
    "from splinter import Browser\n",
    "from webdriver_manager.chrome import ChromeDriverManager"
   ]
  },
  {
   "cell_type": "code",
   "execution_count": 4,
   "metadata": {},
   "outputs": [
    {
     "output_type": "stream",
     "name": "stdout",
     "text": [
      "Collecting webdriver_manager\n  Using cached webdriver_manager-3.3.0-py2.py3-none-any.whl (16 kB)\nRequirement already satisfied: requests in c:\\users\\kqo2\\anaconda3\\lib\\site-packages (from webdriver_manager) (2.24.0)\nCollecting configparser\n  Using cached configparser-5.0.2-py3-none-any.whl (19 kB)\nCollecting crayons\n  Using cached crayons-0.4.0-py2.py3-none-any.whl (4.6 kB)\nRequirement already satisfied: certifi>=2017.4.17 in c:\\users\\kqo2\\anaconda3\\lib\\site-packages (from requests->webdriver_manager) (2020.6.20)\nRequirement already satisfied: idna<3,>=2.5 in c:\\users\\kqo2\\anaconda3\\lib\\site-packages (from requests->webdriver_manager) (2.10)\nRequirement already satisfied: chardet<4,>=3.0.2 in c:\\users\\kqo2\\anaconda3\\lib\\site-packages (from requests->webdriver_manager) (3.0.4)\nRequirement already satisfied: urllib3!=1.25.0,!=1.25.1,<1.26,>=1.21.1 in c:\\users\\kqo2\\anaconda3\\lib\\site-packages (from requests->webdriver_manager) (1.25.11)\nRequirement already satisfied: colorama in c:\\users\\kqo2\\anaconda3\\lib\\site-packages (from crayons->webdriver_manager) (0.4.4)\nInstalling collected packages: configparser, crayons, webdriver-manager\nSuccessfully installed configparser-5.0.2 crayons-0.4.0 webdriver-manager-3.3.0\nNote: you may need to restart the kernel to use updated packages.\n"
     ]
    }
   ],
   "source": [
    "#setup splinter\n",
    "executable_path={'executable_path': ChromeDriverManager().install()}\n",
    "browser=Browser('chrome',**executable_path, headless=False)"
   ]
  },
  {
   "cell_type": "code",
   "execution_count": 6,
   "metadata": {},
   "outputs": [
    {
     "output_type": "stream",
     "name": "stdout",
     "text": [
      "Collecting splinterNote: you may need to restart the kernel to use updated packages.\n  Using cached splinter-0.14.0-py3-none-any.whl (36 kB)\n\nRequirement already satisfied: six in c:\\users\\kqo2\\anaconda3\\lib\\site-packages (from splinter) (1.15.0)\nCollecting selenium>=3.141.0\n  Using cached selenium-3.141.0-py2.py3-none-any.whl (904 kB)\nRequirement already satisfied: urllib3 in c:\\users\\kqo2\\anaconda3\\lib\\site-packages (from selenium>=3.141.0->splinter) (1.25.11)\nInstalling collected packages: selenium, splinter\nSuccessfully installed selenium-3.141.0 splinter-0.14.0\n"
     ]
    }
   ],
   "source": [
    "pip install splinter"
   ]
  },
  {
   "cell_type": "code",
   "execution_count": null,
   "metadata": {},
   "outputs": [],
   "source": []
  }
 ]
}